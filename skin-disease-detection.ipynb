{
 "cells": [
  {
   "cell_type": "code",
   "execution_count": 1,
   "id": "81718116",
   "metadata": {
    "_cell_guid": "b1076dfc-b9ad-4769-8c92-a6c4dae69d19",
    "_uuid": "8f2839f25d086af736a60e9eeb907d3b93b6e0e5",
    "execution": {
     "iopub.execute_input": "2024-06-20T07:49:32.948675Z",
     "iopub.status.busy": "2024-06-20T07:49:32.948214Z",
     "iopub.status.idle": "2024-06-20T07:49:46.001408Z",
     "shell.execute_reply": "2024-06-20T07:49:45.999716Z"
    },
    "papermill": {
     "duration": 13.067782,
     "end_time": "2024-06-20T07:49:46.004697",
     "exception": false,
     "start_time": "2024-06-20T07:49:32.936915",
     "status": "completed"
    },
    "tags": []
   },
   "outputs": [],
   "source": [
    "import numpy as np\n",
    "import pandas as pd\n",
    "import matplotlib.pyplot as plt\n",
    "import seaborn as sns\n",
    "import plotly.express as px\n",
    "import os\n",
    "import itertools\n",
    "\n",
    "from glob import glob\n",
    "from PIL import Image\n",
    "from sklearn.model_selection import train_test_split\n",
    "from sklearn.metrics import confusion_matrix, plot_confusion_matrix\n",
    "from tensorflow.keras.utils import to_categorical\n",
    "from tensorflow.keras.models import Sequential\n",
    "from tensorflow.keras.layers import Dense, Dropout, Flatten, Conv2D, MaxPool2D\n",
    "from tensorflow.keras import backend as K\n",
    "from tensorflow.keras.optimizers import Adam\n",
    "from tensorflow.keras.preprocessing.image import ImageDataGenerator\n",
    "from tensorflow.keras.callbacks import EarlyStopping, ReduceLROnPlateau\n",
    "from keras.utils.vis_utils import plot_model"
   ]
  },
  {
   "cell_type": "code",
   "execution_count": 2,
   "id": "e8a9b5d2",
   "metadata": {
    "execution": {
     "iopub.execute_input": "2024-06-20T07:49:46.023185Z",
     "iopub.status.busy": "2024-06-20T07:49:46.022120Z",
     "iopub.status.idle": "2024-06-20T07:49:46.099348Z",
     "shell.execute_reply": "2024-06-20T07:49:46.097720Z"
    },
    "papermill": {
     "duration": 0.089789,
     "end_time": "2024-06-20T07:49:46.102506",
     "exception": false,
     "start_time": "2024-06-20T07:49:46.012717",
     "status": "completed"
    },
    "tags": []
   },
   "outputs": [
    {
     "data": {
      "text/html": [
       "<div>\n",
       "<style scoped>\n",
       "    .dataframe tbody tr th:only-of-type {\n",
       "        vertical-align: middle;\n",
       "    }\n",
       "\n",
       "    .dataframe tbody tr th {\n",
       "        vertical-align: top;\n",
       "    }\n",
       "\n",
       "    .dataframe thead th {\n",
       "        text-align: right;\n",
       "    }\n",
       "</style>\n",
       "<table border=\"1\" class=\"dataframe\">\n",
       "  <thead>\n",
       "    <tr style=\"text-align: right;\">\n",
       "      <th></th>\n",
       "      <th>lesion_id</th>\n",
       "      <th>image_id</th>\n",
       "      <th>dx</th>\n",
       "      <th>dx_type</th>\n",
       "      <th>age</th>\n",
       "      <th>sex</th>\n",
       "      <th>localization</th>\n",
       "    </tr>\n",
       "  </thead>\n",
       "  <tbody>\n",
       "    <tr>\n",
       "      <th>0</th>\n",
       "      <td>HAM_0000118</td>\n",
       "      <td>ISIC_0027419</td>\n",
       "      <td>bkl</td>\n",
       "      <td>histo</td>\n",
       "      <td>80.0</td>\n",
       "      <td>male</td>\n",
       "      <td>scalp</td>\n",
       "    </tr>\n",
       "    <tr>\n",
       "      <th>1</th>\n",
       "      <td>HAM_0000118</td>\n",
       "      <td>ISIC_0025030</td>\n",
       "      <td>bkl</td>\n",
       "      <td>histo</td>\n",
       "      <td>80.0</td>\n",
       "      <td>male</td>\n",
       "      <td>scalp</td>\n",
       "    </tr>\n",
       "    <tr>\n",
       "      <th>2</th>\n",
       "      <td>HAM_0002730</td>\n",
       "      <td>ISIC_0026769</td>\n",
       "      <td>bkl</td>\n",
       "      <td>histo</td>\n",
       "      <td>80.0</td>\n",
       "      <td>male</td>\n",
       "      <td>scalp</td>\n",
       "    </tr>\n",
       "    <tr>\n",
       "      <th>3</th>\n",
       "      <td>HAM_0002730</td>\n",
       "      <td>ISIC_0025661</td>\n",
       "      <td>bkl</td>\n",
       "      <td>histo</td>\n",
       "      <td>80.0</td>\n",
       "      <td>male</td>\n",
       "      <td>scalp</td>\n",
       "    </tr>\n",
       "    <tr>\n",
       "      <th>4</th>\n",
       "      <td>HAM_0001466</td>\n",
       "      <td>ISIC_0031633</td>\n",
       "      <td>bkl</td>\n",
       "      <td>histo</td>\n",
       "      <td>75.0</td>\n",
       "      <td>male</td>\n",
       "      <td>ear</td>\n",
       "    </tr>\n",
       "  </tbody>\n",
       "</table>\n",
       "</div>"
      ],
      "text/plain": [
       "     lesion_id      image_id   dx dx_type   age   sex localization\n",
       "0  HAM_0000118  ISIC_0027419  bkl   histo  80.0  male        scalp\n",
       "1  HAM_0000118  ISIC_0025030  bkl   histo  80.0  male        scalp\n",
       "2  HAM_0002730  ISIC_0026769  bkl   histo  80.0  male        scalp\n",
       "3  HAM_0002730  ISIC_0025661  bkl   histo  80.0  male        scalp\n",
       "4  HAM_0001466  ISIC_0031633  bkl   histo  75.0  male          ear"
      ]
     },
     "execution_count": 2,
     "metadata": {},
     "output_type": "execute_result"
    }
   ],
   "source": [
    "df = pd.read_csv('../input/skin-cancer-mnist-ham10000/HAM10000_metadata.csv')\n",
    "df.head()"
   ]
  },
  {
   "cell_type": "code",
   "execution_count": 3,
   "id": "ff141f33",
   "metadata": {
    "execution": {
     "iopub.execute_input": "2024-06-20T07:49:46.120767Z",
     "iopub.status.busy": "2024-06-20T07:49:46.120335Z",
     "iopub.status.idle": "2024-06-20T07:49:46.127943Z",
     "shell.execute_reply": "2024-06-20T07:49:46.126339Z"
    },
    "papermill": {
     "duration": 0.020534,
     "end_time": "2024-06-20T07:49:46.131113",
     "exception": false,
     "start_time": "2024-06-20T07:49:46.110579",
     "status": "completed"
    },
    "tags": []
   },
   "outputs": [],
   "source": [
    "lesion_type_dict = {\n",
    "    'nv': 'Melanocytic nevi',\n",
    "    'mel': 'Melanoma',\n",
    "    'bkl': 'Benign keratosis-like lesions ',\n",
    "    'bcc': 'Basal cell carcinoma',\n",
    "    'akiec': 'Actinic keratoses',\n",
    "    'vasc': 'Vascular lesions',\n",
    "    'df': 'Dermatofibroma'\n",
    "}\n",
    "base_skin_dir = '../input/skin-cancer-mnist-ham10000'\n"
   ]
  },
  {
   "cell_type": "code",
   "execution_count": 4,
   "id": "97324282",
   "metadata": {
    "execution": {
     "iopub.execute_input": "2024-06-20T07:49:46.149453Z",
     "iopub.status.busy": "2024-06-20T07:49:46.149028Z",
     "iopub.status.idle": "2024-06-20T07:49:47.517716Z",
     "shell.execute_reply": "2024-06-20T07:49:47.516355Z"
    },
    "papermill": {
     "duration": 1.381308,
     "end_time": "2024-06-20T07:49:47.520754",
     "exception": false,
     "start_time": "2024-06-20T07:49:46.139446",
     "status": "completed"
    },
    "tags": []
   },
   "outputs": [],
   "source": [
    "imageid_path_dict = {os.path.splitext(os.path.basename(x))[0]: x\n",
    "                     for x in glob(os.path.join(base_skin_dir, '*', '*.jpg'))}"
   ]
  },
  {
   "cell_type": "code",
   "execution_count": 5,
   "id": "3fbaa754",
   "metadata": {
    "execution": {
     "iopub.execute_input": "2024-06-20T07:49:47.539285Z",
     "iopub.status.busy": "2024-06-20T07:49:47.538284Z",
     "iopub.status.idle": "2024-06-20T07:49:47.574960Z",
     "shell.execute_reply": "2024-06-20T07:49:47.573460Z"
    },
    "papermill": {
     "duration": 0.049329,
     "end_time": "2024-06-20T07:49:47.578109",
     "exception": false,
     "start_time": "2024-06-20T07:49:47.528780",
     "status": "completed"
    },
    "tags": []
   },
   "outputs": [
    {
     "data": {
      "text/html": [
       "<div>\n",
       "<style scoped>\n",
       "    .dataframe tbody tr th:only-of-type {\n",
       "        vertical-align: middle;\n",
       "    }\n",
       "\n",
       "    .dataframe tbody tr th {\n",
       "        vertical-align: top;\n",
       "    }\n",
       "\n",
       "    .dataframe thead th {\n",
       "        text-align: right;\n",
       "    }\n",
       "</style>\n",
       "<table border=\"1\" class=\"dataframe\">\n",
       "  <thead>\n",
       "    <tr style=\"text-align: right;\">\n",
       "      <th></th>\n",
       "      <th>lesion_id</th>\n",
       "      <th>image_id</th>\n",
       "      <th>dx</th>\n",
       "      <th>dx_type</th>\n",
       "      <th>age</th>\n",
       "      <th>sex</th>\n",
       "      <th>localization</th>\n",
       "      <th>path</th>\n",
       "      <th>cell_type</th>\n",
       "      <th>cell_type_idx</th>\n",
       "    </tr>\n",
       "  </thead>\n",
       "  <tbody>\n",
       "    <tr>\n",
       "      <th>0</th>\n",
       "      <td>HAM_0000118</td>\n",
       "      <td>ISIC_0027419</td>\n",
       "      <td>bkl</td>\n",
       "      <td>histo</td>\n",
       "      <td>80.0</td>\n",
       "      <td>male</td>\n",
       "      <td>scalp</td>\n",
       "      <td>../input/skin-cancer-mnist-ham10000/ham10000_i...</td>\n",
       "      <td>Benign keratosis-like lesions</td>\n",
       "      <td>2</td>\n",
       "    </tr>\n",
       "    <tr>\n",
       "      <th>1</th>\n",
       "      <td>HAM_0000118</td>\n",
       "      <td>ISIC_0025030</td>\n",
       "      <td>bkl</td>\n",
       "      <td>histo</td>\n",
       "      <td>80.0</td>\n",
       "      <td>male</td>\n",
       "      <td>scalp</td>\n",
       "      <td>../input/skin-cancer-mnist-ham10000/ham10000_i...</td>\n",
       "      <td>Benign keratosis-like lesions</td>\n",
       "      <td>2</td>\n",
       "    </tr>\n",
       "    <tr>\n",
       "      <th>2</th>\n",
       "      <td>HAM_0002730</td>\n",
       "      <td>ISIC_0026769</td>\n",
       "      <td>bkl</td>\n",
       "      <td>histo</td>\n",
       "      <td>80.0</td>\n",
       "      <td>male</td>\n",
       "      <td>scalp</td>\n",
       "      <td>../input/skin-cancer-mnist-ham10000/ham10000_i...</td>\n",
       "      <td>Benign keratosis-like lesions</td>\n",
       "      <td>2</td>\n",
       "    </tr>\n",
       "    <tr>\n",
       "      <th>3</th>\n",
       "      <td>HAM_0002730</td>\n",
       "      <td>ISIC_0025661</td>\n",
       "      <td>bkl</td>\n",
       "      <td>histo</td>\n",
       "      <td>80.0</td>\n",
       "      <td>male</td>\n",
       "      <td>scalp</td>\n",
       "      <td>../input/skin-cancer-mnist-ham10000/ham10000_i...</td>\n",
       "      <td>Benign keratosis-like lesions</td>\n",
       "      <td>2</td>\n",
       "    </tr>\n",
       "    <tr>\n",
       "      <th>4</th>\n",
       "      <td>HAM_0001466</td>\n",
       "      <td>ISIC_0031633</td>\n",
       "      <td>bkl</td>\n",
       "      <td>histo</td>\n",
       "      <td>75.0</td>\n",
       "      <td>male</td>\n",
       "      <td>ear</td>\n",
       "      <td>../input/skin-cancer-mnist-ham10000/ham10000_i...</td>\n",
       "      <td>Benign keratosis-like lesions</td>\n",
       "      <td>2</td>\n",
       "    </tr>\n",
       "  </tbody>\n",
       "</table>\n",
       "</div>"
      ],
      "text/plain": [
       "     lesion_id      image_id   dx dx_type   age   sex localization  \\\n",
       "0  HAM_0000118  ISIC_0027419  bkl   histo  80.0  male        scalp   \n",
       "1  HAM_0000118  ISIC_0025030  bkl   histo  80.0  male        scalp   \n",
       "2  HAM_0002730  ISIC_0026769  bkl   histo  80.0  male        scalp   \n",
       "3  HAM_0002730  ISIC_0025661  bkl   histo  80.0  male        scalp   \n",
       "4  HAM_0001466  ISIC_0031633  bkl   histo  75.0  male          ear   \n",
       "\n",
       "                                                path  \\\n",
       "0  ../input/skin-cancer-mnist-ham10000/ham10000_i...   \n",
       "1  ../input/skin-cancer-mnist-ham10000/ham10000_i...   \n",
       "2  ../input/skin-cancer-mnist-ham10000/ham10000_i...   \n",
       "3  ../input/skin-cancer-mnist-ham10000/ham10000_i...   \n",
       "4  ../input/skin-cancer-mnist-ham10000/ham10000_i...   \n",
       "\n",
       "                        cell_type  cell_type_idx  \n",
       "0  Benign keratosis-like lesions               2  \n",
       "1  Benign keratosis-like lesions               2  \n",
       "2  Benign keratosis-like lesions               2  \n",
       "3  Benign keratosis-like lesions               2  \n",
       "4  Benign keratosis-like lesions               2  "
      ]
     },
     "execution_count": 5,
     "metadata": {},
     "output_type": "execute_result"
    }
   ],
   "source": [
    "df['path'] = df['image_id'].map(imageid_path_dict.get)\n",
    "df['cell_type'] = df['dx'].map(lesion_type_dict.get)\n",
    "df['cell_type_idx'] = pd.Categorical(df['cell_type']).codes\n",
    "\n",
    "df.head()"
   ]
  },
  {
   "cell_type": "code",
   "execution_count": 6,
   "id": "200ec793",
   "metadata": {
    "execution": {
     "iopub.execute_input": "2024-06-20T07:49:47.596749Z",
     "iopub.status.busy": "2024-06-20T07:49:47.596304Z",
     "iopub.status.idle": "2024-06-20T07:49:47.619245Z",
     "shell.execute_reply": "2024-06-20T07:49:47.617992Z"
    },
    "papermill": {
     "duration": 0.036116,
     "end_time": "2024-06-20T07:49:47.622649",
     "exception": false,
     "start_time": "2024-06-20T07:49:47.586533",
     "status": "completed"
    },
    "tags": []
   },
   "outputs": [
    {
     "data": {
      "text/plain": [
       "lesion_id         0\n",
       "image_id          0\n",
       "dx                0\n",
       "dx_type           0\n",
       "age              57\n",
       "sex               0\n",
       "localization      0\n",
       "path              0\n",
       "cell_type         0\n",
       "cell_type_idx     0\n",
       "dtype: int64"
      ]
     },
     "execution_count": 6,
     "metadata": {},
     "output_type": "execute_result"
    }
   ],
   "source": [
    "df.isna().sum()"
   ]
  },
  {
   "cell_type": "code",
   "execution_count": 7,
   "id": "c2608db4",
   "metadata": {
    "execution": {
     "iopub.execute_input": "2024-06-20T07:49:47.641725Z",
     "iopub.status.busy": "2024-06-20T07:49:47.641280Z",
     "iopub.status.idle": "2024-06-20T07:49:47.648878Z",
     "shell.execute_reply": "2024-06-20T07:49:47.647592Z"
    },
    "papermill": {
     "duration": 0.020486,
     "end_time": "2024-06-20T07:49:47.651830",
     "exception": false,
     "start_time": "2024-06-20T07:49:47.631344",
     "status": "completed"
    },
    "tags": []
   },
   "outputs": [],
   "source": [
    "df['age'].fillna((df['age'].mean()), inplace=True)"
   ]
  },
  {
   "cell_type": "code",
   "execution_count": 8,
   "id": "7200b65c",
   "metadata": {
    "execution": {
     "iopub.execute_input": "2024-06-20T07:49:47.671865Z",
     "iopub.status.busy": "2024-06-20T07:49:47.670908Z",
     "iopub.status.idle": "2024-06-20T07:54:05.591265Z",
     "shell.execute_reply": "2024-06-20T07:54:05.589900Z"
    },
    "papermill": {
     "duration": 257.933858,
     "end_time": "2024-06-20T07:54:05.594691",
     "exception": false,
     "start_time": "2024-06-20T07:49:47.660833",
     "status": "completed"
    },
    "tags": []
   },
   "outputs": [],
   "source": [
    "df['image'] = df['path'].map(lambda x: np.asarray(Image.open(x).resize((100,75))))\n"
   ]
  },
  {
   "cell_type": "code",
   "execution_count": 9,
   "id": "04b184d8",
   "metadata": {
    "execution": {
     "iopub.execute_input": "2024-06-20T07:54:05.615682Z",
     "iopub.status.busy": "2024-06-20T07:54:05.615275Z",
     "iopub.status.idle": "2024-06-20T07:54:05.636020Z",
     "shell.execute_reply": "2024-06-20T07:54:05.634712Z"
    },
    "papermill": {
     "duration": 0.033735,
     "end_time": "2024-06-20T07:54:05.638872",
     "exception": false,
     "start_time": "2024-06-20T07:54:05.605137",
     "status": "completed"
    },
    "tags": []
   },
   "outputs": [
    {
     "data": {
      "text/plain": [
       "(75, 100, 3)    10015\n",
       "Name: image, dtype: int64"
      ]
     },
     "execution_count": 9,
     "metadata": {},
     "output_type": "execute_result"
    }
   ],
   "source": [
    "df['image'].map(lambda x: x.shape).value_counts()"
   ]
  },
  {
   "cell_type": "code",
   "execution_count": 10,
   "id": "610c20ff",
   "metadata": {
    "execution": {
     "iopub.execute_input": "2024-06-20T07:54:05.658069Z",
     "iopub.status.busy": "2024-06-20T07:54:05.657632Z",
     "iopub.status.idle": "2024-06-20T07:54:05.668477Z",
     "shell.execute_reply": "2024-06-20T07:54:05.667129Z"
    },
    "papermill": {
     "duration": 0.024204,
     "end_time": "2024-06-20T07:54:05.671585",
     "exception": false,
     "start_time": "2024-06-20T07:54:05.647381",
     "status": "completed"
    },
    "tags": []
   },
   "outputs": [],
   "source": [
    "features=df.drop(columns=['cell_type_idx'],axis=1)\n",
    "target=df['cell_type_idx']"
   ]
  },
  {
   "cell_type": "code",
   "execution_count": 11,
   "id": "402803d2",
   "metadata": {
    "execution": {
     "iopub.execute_input": "2024-06-20T07:54:05.691052Z",
     "iopub.status.busy": "2024-06-20T07:54:05.690583Z",
     "iopub.status.idle": "2024-06-20T07:54:05.704692Z",
     "shell.execute_reply": "2024-06-20T07:54:05.702940Z"
    },
    "papermill": {
     "duration": 0.027477,
     "end_time": "2024-06-20T07:54:05.707876",
     "exception": false,
     "start_time": "2024-06-20T07:54:05.680399",
     "status": "completed"
    },
    "tags": []
   },
   "outputs": [],
   "source": [
    "x_train_o, x_test_o, y_train_o, y_test_o = train_test_split(features, target, test_size=0.20,random_state=1234)"
   ]
  },
  {
   "cell_type": "code",
   "execution_count": 12,
   "id": "61cd83ba",
   "metadata": {
    "execution": {
     "iopub.execute_input": "2024-06-20T07:54:05.727553Z",
     "iopub.status.busy": "2024-06-20T07:54:05.726489Z",
     "iopub.status.idle": "2024-06-20T07:54:08.072472Z",
     "shell.execute_reply": "2024-06-20T07:54:08.071045Z"
    },
    "papermill": {
     "duration": 2.359315,
     "end_time": "2024-06-20T07:54:08.075870",
     "exception": false,
     "start_time": "2024-06-20T07:54:05.716555",
     "status": "completed"
    },
    "tags": []
   },
   "outputs": [],
   "source": [
    "x_train = np.asarray(x_train_o['image'].tolist())\n",
    "x_test = np.asarray(x_test_o['image'].tolist())\n",
    "\n",
    "x_train_mean = np.mean(x_train)\n",
    "x_train_std = np.std(x_train)\n",
    "\n",
    "x_test_mean = np.mean(x_test)\n",
    "x_test_std = np.std(x_test)\n",
    "\n",
    "x_train = (x_train - x_train_mean)/x_train_std\n",
    "x_test = (x_test - x_test_mean)/x_test_std"
   ]
  },
  {
   "cell_type": "code",
   "execution_count": 13,
   "id": "f249f379",
   "metadata": {
    "execution": {
     "iopub.execute_input": "2024-06-20T07:54:08.095239Z",
     "iopub.status.busy": "2024-06-20T07:54:08.094788Z",
     "iopub.status.idle": "2024-06-20T07:54:08.102181Z",
     "shell.execute_reply": "2024-06-20T07:54:08.100736Z"
    },
    "papermill": {
     "duration": 0.020446,
     "end_time": "2024-06-20T07:54:08.104975",
     "exception": false,
     "start_time": "2024-06-20T07:54:08.084529",
     "status": "completed"
    },
    "tags": []
   },
   "outputs": [],
   "source": [
    "y_train = to_categorical(y_train_o, num_classes = 7)\n",
    "y_test = to_categorical(y_test_o, num_classes = 7)"
   ]
  },
  {
   "cell_type": "code",
   "execution_count": 14,
   "id": "50b97ed8",
   "metadata": {
    "execution": {
     "iopub.execute_input": "2024-06-20T07:54:08.124515Z",
     "iopub.status.busy": "2024-06-20T07:54:08.123635Z",
     "iopub.status.idle": "2024-06-20T07:54:08.773829Z",
     "shell.execute_reply": "2024-06-20T07:54:08.772567Z"
    },
    "papermill": {
     "duration": 0.663622,
     "end_time": "2024-06-20T07:54:08.777319",
     "exception": false,
     "start_time": "2024-06-20T07:54:08.113697",
     "status": "completed"
    },
    "tags": []
   },
   "outputs": [],
   "source": [
    "x_train, x_validate, y_train, y_validate = train_test_split(x_train, y_train, test_size = 0.1, random_state = 2)"
   ]
  },
  {
   "cell_type": "code",
   "execution_count": 15,
   "id": "f0ecf110",
   "metadata": {
    "execution": {
     "iopub.execute_input": "2024-06-20T07:54:08.798050Z",
     "iopub.status.busy": "2024-06-20T07:54:08.797474Z",
     "iopub.status.idle": "2024-06-20T07:54:08.805241Z",
     "shell.execute_reply": "2024-06-20T07:54:08.803950Z"
    },
    "papermill": {
     "duration": 0.022447,
     "end_time": "2024-06-20T07:54:08.808265",
     "exception": false,
     "start_time": "2024-06-20T07:54:08.785818",
     "status": "completed"
    },
    "tags": []
   },
   "outputs": [],
   "source": [
    "x_train = x_train.reshape(x_train.shape[0], *(75, 100, 3))\n",
    "x_test = x_test.reshape(x_test.shape[0], *(75, 100, 3))\n",
    "x_validate = x_validate.reshape(x_validate.shape[0], *(75, 100, 3))"
   ]
  },
  {
   "cell_type": "code",
   "execution_count": 16,
   "id": "0dd94271",
   "metadata": {
    "execution": {
     "iopub.execute_input": "2024-06-20T07:54:08.828976Z",
     "iopub.status.busy": "2024-06-20T07:54:08.827437Z",
     "iopub.status.idle": "2024-06-20T07:54:09.193149Z",
     "shell.execute_reply": "2024-06-20T07:54:09.191780Z"
    },
    "papermill": {
     "duration": 0.39412,
     "end_time": "2024-06-20T07:54:09.211203",
     "exception": false,
     "start_time": "2024-06-20T07:54:08.817083",
     "status": "completed"
    },
    "tags": []
   },
   "outputs": [
    {
     "name": "stdout",
     "output_type": "stream",
     "text": [
      "Model: \"sequential\"\n",
      "_________________________________________________________________\n",
      " Layer (type)                Output Shape              Param #   \n",
      "=================================================================\n",
      " conv2d (Conv2D)             (None, 75, 100, 32)       896       \n",
      "                                                                 \n",
      " conv2d_1 (Conv2D)           (None, 75, 100, 32)       9248      \n",
      "                                                                 \n",
      " max_pooling2d (MaxPooling2D  (None, 37, 50, 32)       0         \n",
      " )                                                               \n",
      "                                                                 \n",
      " dropout (Dropout)           (None, 37, 50, 32)        0         \n",
      "                                                                 \n",
      " conv2d_2 (Conv2D)           (None, 37, 50, 64)        18496     \n",
      "                                                                 \n",
      " conv2d_3 (Conv2D)           (None, 37, 50, 64)        36928     \n",
      "                                                                 \n",
      " max_pooling2d_1 (MaxPooling  (None, 18, 25, 64)       0         \n",
      " 2D)                                                             \n",
      "                                                                 \n",
      " dropout_1 (Dropout)         (None, 18, 25, 64)        0         \n",
      "                                                                 \n",
      " flatten (Flatten)           (None, 28800)             0         \n",
      "                                                                 \n",
      " dense (Dense)               (None, 128)               3686528   \n",
      "                                                                 \n",
      " dropout_2 (Dropout)         (None, 128)               0         \n",
      "                                                                 \n",
      " dense_1 (Dense)             (None, 7)                 903       \n",
      "                                                                 \n",
      "=================================================================\n",
      "Total params: 3,752,999\n",
      "Trainable params: 3,752,999\n",
      "Non-trainable params: 0\n",
      "_________________________________________________________________\n"
     ]
    }
   ],
   "source": [
    "input_shape = (75, 100, 3)\n",
    "num_classes = 7\n",
    "\n",
    "model = Sequential()\n",
    "model.add(Conv2D(32, kernel_size=(3, 3),activation='relu',padding = 'Same',input_shape=input_shape))\n",
    "model.add(Conv2D(32,kernel_size=(3, 3), activation='relu',padding = 'Same',))\n",
    "model.add(MaxPool2D(pool_size = (2, 2)))\n",
    "model.add(Dropout(0.25))\n",
    "\n",
    "model.add(Conv2D(64, (3, 3), activation='relu',padding = 'Same'))\n",
    "model.add(Conv2D(64, (3, 3), activation='relu',padding = 'Same'))\n",
    "model.add(MaxPool2D(pool_size=(2, 2)))\n",
    "model.add(Dropout(0.40))\n",
    "\n",
    "model.add(Flatten())\n",
    "model.add(Dense(128, activation='relu'))\n",
    "model.add(Dropout(0.5))\n",
    "model.add(Dense(num_classes, activation='softmax'))\n",
    "model.summary()"
   ]
  },
  {
   "cell_type": "code",
   "execution_count": 17,
   "id": "f8fc2dbf",
   "metadata": {
    "execution": {
     "iopub.execute_input": "2024-06-20T07:54:09.237119Z",
     "iopub.status.busy": "2024-06-20T07:54:09.236154Z",
     "iopub.status.idle": "2024-06-20T07:54:09.777049Z",
     "shell.execute_reply": "2024-06-20T07:54:09.775051Z"
    },
    "papermill": {
     "duration": 0.556826,
     "end_time": "2024-06-20T07:54:09.779639",
     "exception": true,
     "start_time": "2024-06-20T07:54:09.222813",
     "status": "failed"
    },
    "tags": []
   },
   "outputs": [
    {
     "ename": "ValueError",
     "evalue": "decay is deprecated in the new Keras optimizer, pleasecheck the docstring for valid arguments, or use the legacy optimizer, e.g., tf.keras.optimizers.legacy.Adam.",
     "output_type": "error",
     "traceback": [
      "\u001b[0;31m---------------------------------------------------------------------------\u001b[0m",
      "\u001b[0;31mValueError\u001b[0m                                Traceback (most recent call last)",
      "\u001b[0;32m/tmp/ipykernel_19/3801974620.py\u001b[0m in \u001b[0;36m<module>\u001b[0;34m\u001b[0m\n\u001b[0;32m----> 1\u001b[0;31m \u001b[0moptimizer\u001b[0m \u001b[0;34m=\u001b[0m \u001b[0mAdam\u001b[0m\u001b[0;34m(\u001b[0m\u001b[0mlr\u001b[0m\u001b[0;34m=\u001b[0m\u001b[0;36m0.001\u001b[0m\u001b[0;34m,\u001b[0m \u001b[0mbeta_1\u001b[0m\u001b[0;34m=\u001b[0m\u001b[0;36m0.9\u001b[0m\u001b[0;34m,\u001b[0m \u001b[0mbeta_2\u001b[0m\u001b[0;34m=\u001b[0m\u001b[0;36m0.999\u001b[0m\u001b[0;34m,\u001b[0m \u001b[0mepsilon\u001b[0m\u001b[0;34m=\u001b[0m\u001b[0;32mNone\u001b[0m\u001b[0;34m,\u001b[0m \u001b[0mdecay\u001b[0m\u001b[0;34m=\u001b[0m\u001b[0;36m0.0\u001b[0m\u001b[0;34m,\u001b[0m \u001b[0mamsgrad\u001b[0m\u001b[0;34m=\u001b[0m\u001b[0;32mFalse\u001b[0m\u001b[0;34m)\u001b[0m\u001b[0;34m\u001b[0m\u001b[0;34m\u001b[0m\u001b[0m\n\u001b[0m\u001b[1;32m      2\u001b[0m \u001b[0mmodel\u001b[0m\u001b[0;34m.\u001b[0m\u001b[0mcompile\u001b[0m\u001b[0;34m(\u001b[0m\u001b[0moptimizer\u001b[0m \u001b[0;34m=\u001b[0m \u001b[0moptimizer\u001b[0m \u001b[0;34m,\u001b[0m \u001b[0mloss\u001b[0m \u001b[0;34m=\u001b[0m \u001b[0;34m\"categorical_crossentropy\"\u001b[0m\u001b[0;34m,\u001b[0m \u001b[0mmetrics\u001b[0m\u001b[0;34m=\u001b[0m\u001b[0;34m[\u001b[0m\u001b[0;34m\"accuracy\"\u001b[0m\u001b[0;34m]\u001b[0m\u001b[0;34m)\u001b[0m\u001b[0;34m\u001b[0m\u001b[0;34m\u001b[0m\u001b[0m\n\u001b[1;32m      3\u001b[0m learning_rate_reduction = ReduceLROnPlateau(monitor='val_acc', \n\u001b[1;32m      4\u001b[0m                                             \u001b[0mpatience\u001b[0m\u001b[0;34m=\u001b[0m\u001b[0;36m3\u001b[0m\u001b[0;34m,\u001b[0m\u001b[0;34m\u001b[0m\u001b[0;34m\u001b[0m\u001b[0m\n\u001b[1;32m      5\u001b[0m                                             \u001b[0mverbose\u001b[0m\u001b[0;34m=\u001b[0m\u001b[0;36m1\u001b[0m\u001b[0;34m,\u001b[0m\u001b[0;34m\u001b[0m\u001b[0;34m\u001b[0m\u001b[0m\n",
      "\u001b[0;32m/opt/conda/lib/python3.7/site-packages/keras/optimizers/optimizer_experimental/adam.py\u001b[0m in \u001b[0;36m__init__\u001b[0;34m(self, learning_rate, beta_1, beta_2, epsilon, amsgrad, weight_decay, clipnorm, clipvalue, global_clipnorm, use_ema, ema_momentum, ema_overwrite_frequency, jit_compile, name, **kwargs)\u001b[0m\n\u001b[1;32m    112\u001b[0m             \u001b[0mema_overwrite_frequency\u001b[0m\u001b[0;34m=\u001b[0m\u001b[0mema_overwrite_frequency\u001b[0m\u001b[0;34m,\u001b[0m\u001b[0;34m\u001b[0m\u001b[0;34m\u001b[0m\u001b[0m\n\u001b[1;32m    113\u001b[0m             \u001b[0mjit_compile\u001b[0m\u001b[0;34m=\u001b[0m\u001b[0mjit_compile\u001b[0m\u001b[0;34m,\u001b[0m\u001b[0;34m\u001b[0m\u001b[0;34m\u001b[0m\u001b[0m\n\u001b[0;32m--> 114\u001b[0;31m             \u001b[0;34m**\u001b[0m\u001b[0mkwargs\u001b[0m\u001b[0;34m\u001b[0m\u001b[0;34m\u001b[0m\u001b[0m\n\u001b[0m\u001b[1;32m    115\u001b[0m         )\n\u001b[1;32m    116\u001b[0m         \u001b[0mself\u001b[0m\u001b[0;34m.\u001b[0m\u001b[0m_learning_rate\u001b[0m \u001b[0;34m=\u001b[0m \u001b[0mself\u001b[0m\u001b[0;34m.\u001b[0m\u001b[0m_build_learning_rate\u001b[0m\u001b[0;34m(\u001b[0m\u001b[0mlearning_rate\u001b[0m\u001b[0;34m)\u001b[0m\u001b[0;34m\u001b[0m\u001b[0;34m\u001b[0m\u001b[0m\n",
      "\u001b[0;32m/opt/conda/lib/python3.7/site-packages/keras/optimizers/optimizer_experimental/optimizer.py\u001b[0m in \u001b[0;36m__init__\u001b[0;34m(self, name, weight_decay, clipnorm, clipvalue, global_clipnorm, use_ema, ema_momentum, ema_overwrite_frequency, jit_compile, **kwargs)\u001b[0m\n\u001b[1;32m   1061\u001b[0m             \u001b[0mema_overwrite_frequency\u001b[0m\u001b[0;34m,\u001b[0m\u001b[0;34m\u001b[0m\u001b[0;34m\u001b[0m\u001b[0m\n\u001b[1;32m   1062\u001b[0m             \u001b[0mjit_compile\u001b[0m\u001b[0;34m,\u001b[0m\u001b[0;34m\u001b[0m\u001b[0;34m\u001b[0m\u001b[0m\n\u001b[0;32m-> 1063\u001b[0;31m             \u001b[0;34m**\u001b[0m\u001b[0mkwargs\u001b[0m\u001b[0;34m,\u001b[0m\u001b[0;34m\u001b[0m\u001b[0;34m\u001b[0m\u001b[0m\n\u001b[0m\u001b[1;32m   1064\u001b[0m         )\n\u001b[1;32m   1065\u001b[0m         \u001b[0mself\u001b[0m\u001b[0;34m.\u001b[0m\u001b[0m_distribution_strategy\u001b[0m \u001b[0;34m=\u001b[0m \u001b[0mtf\u001b[0m\u001b[0;34m.\u001b[0m\u001b[0mdistribute\u001b[0m\u001b[0;34m.\u001b[0m\u001b[0mget_strategy\u001b[0m\u001b[0;34m(\u001b[0m\u001b[0;34m)\u001b[0m\u001b[0;34m\u001b[0m\u001b[0;34m\u001b[0m\u001b[0m\n",
      "\u001b[0;32m/opt/conda/lib/python3.7/site-packages/keras/optimizers/optimizer_experimental/optimizer.py\u001b[0m in \u001b[0;36m__init__\u001b[0;34m(self, name, weight_decay, clipnorm, clipvalue, global_clipnorm, use_ema, ema_momentum, ema_overwrite_frequency, jit_compile, **kwargs)\u001b[0m\n\u001b[1;32m     87\u001b[0m         \u001b[0mself\u001b[0m\u001b[0;34m.\u001b[0m\u001b[0m_variables\u001b[0m \u001b[0;34m=\u001b[0m \u001b[0;34m[\u001b[0m\u001b[0;34m]\u001b[0m\u001b[0;34m\u001b[0m\u001b[0;34m\u001b[0m\u001b[0m\n\u001b[1;32m     88\u001b[0m         \u001b[0mself\u001b[0m\u001b[0;34m.\u001b[0m\u001b[0m_create_iteration_variable\u001b[0m\u001b[0;34m(\u001b[0m\u001b[0;34m)\u001b[0m\u001b[0;34m\u001b[0m\u001b[0;34m\u001b[0m\u001b[0m\n\u001b[0;32m---> 89\u001b[0;31m         \u001b[0mself\u001b[0m\u001b[0;34m.\u001b[0m\u001b[0m_process_kwargs\u001b[0m\u001b[0;34m(\u001b[0m\u001b[0mkwargs\u001b[0m\u001b[0;34m)\u001b[0m\u001b[0;34m\u001b[0m\u001b[0;34m\u001b[0m\u001b[0m\n\u001b[0m\u001b[1;32m     90\u001b[0m \u001b[0;34m\u001b[0m\u001b[0m\n\u001b[1;32m     91\u001b[0m     \u001b[0;32mdef\u001b[0m \u001b[0m_create_iteration_variable\u001b[0m\u001b[0;34m(\u001b[0m\u001b[0mself\u001b[0m\u001b[0;34m)\u001b[0m\u001b[0;34m:\u001b[0m\u001b[0;34m\u001b[0m\u001b[0;34m\u001b[0m\u001b[0m\n",
      "\u001b[0;32m/opt/conda/lib/python3.7/site-packages/keras/optimizers/optimizer_experimental/optimizer.py\u001b[0m in \u001b[0;36m_process_kwargs\u001b[0;34m(self, kwargs)\u001b[0m\n\u001b[1;32m    117\u001b[0m             \u001b[0;32mif\u001b[0m \u001b[0mk\u001b[0m \u001b[0;32min\u001b[0m \u001b[0mlegacy_kwargs\u001b[0m\u001b[0;34m:\u001b[0m\u001b[0;34m\u001b[0m\u001b[0;34m\u001b[0m\u001b[0m\n\u001b[1;32m    118\u001b[0m                 raise ValueError(\n\u001b[0;32m--> 119\u001b[0;31m                     \u001b[0;34mf\"{k} is deprecated in the new Keras optimizer, please\"\u001b[0m\u001b[0;34m\u001b[0m\u001b[0;34m\u001b[0m\u001b[0m\n\u001b[0m\u001b[1;32m    120\u001b[0m                     \u001b[0;34m\"check the docstring for valid arguments, or use the \"\u001b[0m\u001b[0;34m\u001b[0m\u001b[0;34m\u001b[0m\u001b[0m\n\u001b[1;32m    121\u001b[0m                     \u001b[0;34m\"legacy optimizer, e.g., \"\u001b[0m\u001b[0;34m\u001b[0m\u001b[0;34m\u001b[0m\u001b[0m\n",
      "\u001b[0;31mValueError\u001b[0m: decay is deprecated in the new Keras optimizer, pleasecheck the docstring for valid arguments, or use the legacy optimizer, e.g., tf.keras.optimizers.legacy.Adam."
     ]
    }
   ],
   "source": [
    "optimizer = Adam(lr=0.001, beta_1=0.9, beta_2=0.999, epsilon=None, decay=0.0, amsgrad=False)\n",
    "model.compile(optimizer = optimizer , loss = \"categorical_crossentropy\", metrics=[\"accuracy\"])\n",
    "learning_rate_reduction = ReduceLROnPlateau(monitor='val_acc', \n",
    "                                            patience=3, \n",
    "                                            verbose=1, \n",
    "                                            factor=0.5, \n",
    "                                            learning_rate=0.00001)"
   ]
  },
  {
   "cell_type": "code",
   "execution_count": null,
   "id": "ba586a9e",
   "metadata": {
    "execution": {
     "iopub.status.busy": "2023-07-31T11:30:26.034237Z",
     "iopub.status.idle": "2023-07-31T11:30:26.034718Z",
     "shell.execute_reply": "2023-07-31T11:30:26.034516Z",
     "shell.execute_reply.started": "2023-07-31T11:30:26.034491Z"
    },
    "papermill": {
     "duration": null,
     "end_time": null,
     "exception": null,
     "start_time": null,
     "status": "pending"
    },
    "tags": []
   },
   "outputs": [],
   "source": [
    "datagen = ImageDataGenerator(\n",
    "        featurewise_center=False,  # set input mean to 0 over the dataset\n",
    "        samplewise_center=False,  # set each sample mean to 0\n",
    "        featurewise_std_normalization=False,  # divide inputs by std of the dataset\n",
    "        samplewise_std_normalization=False,  # divide each input by its std\n",
    "        zca_whitening=False,  # apply ZCA whitening\n",
    "        rotation_range=10,  # randomly rotate images in the range (degrees, 0 to 180)\n",
    "        zoom_range = 0.1, # Randomly zoom image \n",
    "        width_shift_range=0.1,  # randomly shift images horizontally (fraction of total width)\n",
    "        height_shift_range=0.1,  # randomly shift images vertically (fraction of total height)\n",
    "        horizontal_flip=False,  # randomly flip images\n",
    "        vertical_flip=False)  # randomly flip images\n",
    "\n",
    "datagen.fit(x_train)"
   ]
  },
  {
   "cell_type": "code",
   "execution_count": null,
   "id": "f06820d8",
   "metadata": {
    "execution": {
     "iopub.status.busy": "2023-07-31T11:30:26.038322Z",
     "iopub.status.idle": "2023-07-31T11:30:26.039032Z",
     "shell.execute_reply": "2023-07-31T11:30:26.038710Z",
     "shell.execute_reply.started": "2023-07-31T11:30:26.038673Z"
    },
    "papermill": {
     "duration": null,
     "end_time": null,
     "exception": null,
     "start_time": null,
     "status": "pending"
    },
    "tags": []
   },
   "outputs": [],
   "source": [
    "epochs = 50\n",
    "batch_size = 10\n",
    "history = model.fit_generator(datagen.flow(x_train,y_train, batch_size=batch_size),\n",
    "                              epochs = epochs, validation_data = (x_validate,y_validate),\n",
    "                              verbose = 1, steps_per_epoch=x_train.shape[0] // batch_size\n",
    "                              , callbacks=[learning_rate_reduction])"
   ]
  },
  {
   "cell_type": "code",
   "execution_count": null,
   "id": "e62b58c6",
   "metadata": {
    "execution": {
     "iopub.status.busy": "2023-07-31T11:30:26.041055Z",
     "iopub.status.idle": "2023-07-31T11:30:26.042162Z",
     "shell.execute_reply": "2023-07-31T11:30:26.041837Z",
     "shell.execute_reply.started": "2023-07-31T11:30:26.041799Z"
    },
    "papermill": {
     "duration": null,
     "end_time": null,
     "exception": null,
     "start_time": null,
     "status": "pending"
    },
    "tags": []
   },
   "outputs": [],
   "source": [
    "loss, accuracy = model.evaluate(x_test, y_test, verbose=1)\n",
    "loss_v, accuracy_v = model.evaluate(x_validate, y_validate, verbose=1)\n",
    "print(\"Validation: accuracy = %f  ;  loss_v = %f\" % (accuracy_v, loss_v))\n",
    "print(\"Test: accuracy = %f  ;  loss = %f\" % (accuracy, loss))\n",
    "model.save(\"model_skin.h5\")"
   ]
  }
 ],
 "metadata": {
  "kaggle": {
   "accelerator": "none",
   "dataSources": [
    {
     "datasetId": 54339,
     "sourceId": 104884,
     "sourceType": "datasetVersion"
    }
   ],
   "dockerImageVersionId": 30458,
   "isGpuEnabled": false,
   "isInternetEnabled": false,
   "language": "python",
   "sourceType": "notebook"
  },
  "kernelspec": {
   "display_name": "Python 3",
   "language": "python",
   "name": "python3"
  },
  "language_info": {
   "codemirror_mode": {
    "name": "ipython",
    "version": 3
   },
   "file_extension": ".py",
   "mimetype": "text/x-python",
   "name": "python",
   "nbconvert_exporter": "python",
   "pygments_lexer": "ipython3",
   "version": "3.7.12"
  },
  "papermill": {
   "default_parameters": {},
   "duration": 293.816558,
   "end_time": "2024-06-20T07:54:12.706406",
   "environment_variables": {},
   "exception": true,
   "input_path": "__notebook__.ipynb",
   "output_path": "__notebook__.ipynb",
   "parameters": {},
   "start_time": "2024-06-20T07:49:18.889848",
   "version": "2.4.0"
  }
 },
 "nbformat": 4,
 "nbformat_minor": 5
}
